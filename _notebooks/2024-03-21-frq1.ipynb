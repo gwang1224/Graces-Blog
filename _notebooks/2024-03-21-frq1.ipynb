{
 "cells": [
  {
   "cell_type": "markdown",
   "metadata": {},
   "source": [
    "---\n",
    "toc: true \n",
    "comments: true \n",
    "layout: default \n",
    "title: FRQ 1  \n",
    "type: hacks \n",
    "courses:\n",
    "---"
   ]
  },
  {
   "cell_type": "markdown",
   "metadata": {},
   "source": [
    "# FRQ 1"
   ]
  },
  {
   "cell_type": "markdown",
   "metadata": {},
   "source": [
    "# Question 2: Iteration over 2D arrays (Unit 4)\n",
    "\n",
    "Situation: You are developing a game where you need to track player scores on a 2D grid representing levels and attempts.\n",
    "\n",
    "(a) Explain the concept of iteration over a 2D array in Java. Provide an example scenario where iterating over a 2D array is useful in a programming task.\n",
    "\n",
    "<span style=\"color:blue;\">In Java, iterating over a 2D array means we traversing through each element of the array, row by row, and column by column. This is usually done by nested loops where the outer loop iterates by row and the inner loop iterates each element in the row, or by columns. </span>\n",
    "\n",
    "<span style=\"color:blue;\">An example of this is turning a picture into grayscale. Since pixels of an image are in a 2D array, converting colored image to gray scale would require you to iterate through each pixel of the image and compute to the gray scale value for each of the pixels. </span> "
   ]
  },
  {
   "cell_type": "markdown",
   "metadata": {},
   "source": [
    "(b) Code: You need to implement a method `calculateTotalScore` that takes a 2D array `scores` of integers representing player scores and returns the sum of all the elements in the array. Write the method signature and the method implementation. Include comments to explain your code."
   ]
  },
  {
   "cell_type": "code",
   "execution_count": 3,
   "metadata": {},
   "outputs": [],
   "source": [
    "public static int calculateTotalScore(int[][] scores){\n",
    "\n",
    "    // Initialize variable totalScore\n",
    "    int totalScore = 0;\n",
    "\n",
    "    // Iterate through each row representing players\n",
    "    for (int i = 0; i < scores.length; i++) {\n",
    "\n",
    "        // Iterate through each column and add the scores for each player\n",
    "        for(int j = 0; j < scores[i].length; j++){\n",
    "            // Add the score to the total\n",
    "            totalScore += scores[i][j];\n",
    "        }\n",
    "    }\n",
    "    return totalScore;\n",
    "}"
   ]
  },
  {
   "cell_type": "code",
   "execution_count": 6,
   "metadata": {},
   "outputs": [
    {
     "name": "stdout",
     "output_type": "stream",
     "text": [
      "The total score is: 777\n"
     ]
    }
   ],
   "source": [
    "// Test\n",
    "int[][] scores = {\n",
    "    {99, 89, 98},\n",
    "    {94, 85, 81},\n",
    "    {75, 82, 74}\n",
    "};\n",
    "\n",
    "int test = calculateTotalScore(scores);\n",
    "System.out.println(\"The total score is: \" + test);"
   ]
  },
  {
   "cell_type": "markdown",
   "metadata": {},
   "source": [
    "# Question 3: ArrayList (Unit 6)\n",
    "\n",
    "Situation: You are developing a student management system where you need to store and analyze the grades of students in a class.\n",
    "\n",
    "(a) Define an arrayList in Java. Explain its significance and usefulness in programming.\n",
    "\n",
    "<span style=\"color:blue;\">An arrayList is a resizable array that contains elements of any datatype. They can change in size and are flexible. This is useful when storing collections that need to be modified as values can easily be added and removed.\n"
   ]
  },
  {
   "cell_type": "markdown",
   "metadata": {},
   "source": [
    "(b) Code: You need to implement a method `calculateAverageGrade` that takes an arrayList `grades` of integers representing student grades and returns the average of all the elements in the arrayList. Write the method signature and the method implementation. Include comments to explain your code.\n"
   ]
  },
  {
   "cell_type": "code",
   "execution_count": null,
   "metadata": {},
   "outputs": [],
   "source": [
    "import java.util.ArrayList;\n",
    "\n",
    "public static double calculateAverageGrade(ArrayList<Integer> grades) {\n",
    "    // Initialize variable to hold the sum of grades\n",
    "    int sum = 0;\n",
    "\n",
    "    // Iterate through each grade in the ArrayList\n",
    "    for (int grade : grades) {\n",
    "        // Add the grade to the sum\n",
    "        sum += grade;\n",
    "    }\n",
    "\n",
    "    // Calculate the average grade and return it\n",
    "    double average = (double) sum / grades.size();\n",
    "    return average;\n",
    "}"
   ]
  },
  {
   "cell_type": "code",
   "execution_count": 14,
   "metadata": {},
   "outputs": [
    {
     "name": "stdout",
     "output_type": "stream",
     "text": [
      "Average Grade: 85.0\n"
     ]
    }
   ],
   "source": [
    "// Test\n",
    "\n",
    "ArrayList<Integer> grades = new ArrayList<>();\n",
    "        grades.add(85);\n",
    "        grades.add(90);\n",
    "        grades.add(80);\n",
    "\n",
    "double averageGrade = calculateAverageGrade(grades);\n",
    "System.out.println(\"Average Grade: \" + averageGrade);"
   ]
  },
  {
   "cell_type": "markdown",
   "metadata": {},
   "source": [
    "# Question 4: Math Class (Unit 2)\n",
    "\n",
    "(a) Discuss the purpose and utility of the Math class in Java programming. Provide examples of at least three methods provided by the Math class and explain their usage.\n",
    "\n",
    "<span style=\"color:blue;\">The Math class in Java provides static methods for common mathematical operations. Instead of writing code that finds the absolute value of a number, you could just call the Math class and do Math.abs(number)\n",
    "\n",
    "- Math.abs(double a): Returns the absolute value of a number\n",
    "- Math.max(double a, double b): Returns the maximum of two values\n",
    "- Math.random(): Generates a random double value\n"
   ]
  },
  {
   "cell_type": "markdown",
   "metadata": {},
   "source": [
    "(b) Code: You need to implement a method `calculateSquareRoot` that takes a `double` number as input and returns its square root using the Math class. Write the method signature and the method implementation. Include comments to explain your code.\n"
   ]
  },
  {
   "cell_type": "code",
   "execution_count": 27,
   "metadata": {},
   "outputs": [],
   "source": [
    "import java.lang.Math;\n",
    "\n",
    "public static double calculateSquareRoot(double number){\n",
    "    // Finds square root\n",
    "    double root = Math.sqrt(number);\n",
    "\n",
    "    // Returns square root value\n",
    "    return root;\n",
    "    \n",
    "}"
   ]
  },
  {
   "cell_type": "code",
   "execution_count": 28,
   "metadata": {},
   "outputs": [
    {
     "name": "stdout",
     "output_type": "stream",
     "text": [
      "9.327379053088816\n"
     ]
    }
   ],
   "source": [
    "double number = 87;\n",
    "\n",
    "double square_root = calculateSquareRoot(number);\n",
    "System.out.println(square_root)"
   ]
  }
 ],
 "metadata": {
  "kernelspec": {
   "display_name": "Java",
   "language": "java",
   "name": "java"
  },
  "language_info": {
   "codemirror_mode": "java",
   "file_extension": ".jshell",
   "mimetype": "text/x-java-source",
   "name": "java",
   "pygments_lexer": "java",
   "version": "20.0.2+9-78"
  }
 },
 "nbformat": 4,
 "nbformat_minor": 2
}

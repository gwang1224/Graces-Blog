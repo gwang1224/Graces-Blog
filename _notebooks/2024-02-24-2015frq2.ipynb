{
 "cells": [
  {
   "cell_type": "markdown",
   "metadata": {},
   "source": [
    "---\n",
    "toc: true\n",
    "comments: true\n",
    "layout: default\n",
    "title: Collegeboard 2015 FRQ Question 2\n",
    "type: hacks\n",
    "---"
   ]
  },
  {
   "cell_type": "markdown",
   "metadata": {},
   "source": [
    "## Question 2\n",
    "\n",
    "![](https://cdn.discordapp.com/attachments/879557685253664768/1211384649662726215/Screenshot_2024-02-25_at_10.49.44_AM.png?ex=65ee00de&is=65db8bde&hm=fd4f7091bc9f8ee47ba0b8c08b49d396f60a6efdc188834bd23c86243b5952b2&)\n",
    "\n",
    "![](https://cdn.discordapp.com/attachments/879557685253664768/1211384650023440424/Screenshot_2024-02-25_at_10.50.03_AM.png?ex=65ee00df&is=65db8bdf&hm=190a6cbc1fecb6aac646a201a36a8aa70109298397aa8bac89ed828a44cc1d11&)"
   ]
  },
  {
   "cell_type": "code",
   "execution_count": 55,
   "metadata": {},
   "outputs": [
    {
     "name": "stdout",
     "output_type": "stream",
     "text": [
      "H****\n",
      "H*++*\n",
      "HAR*S\n",
      "HARPS\n"
     ]
    }
   ],
   "source": [
    "public class HiddenWord {\n",
    "    private String word;\n",
    "\n",
    "    public HiddenWord(String word) {\n",
    "        this.word = word;\n",
    "    }\n",
    "\n",
    "    public String getHint(String guess) {\n",
    "        String hint = \"\";\n",
    "\n",
    "        for (int i = 0; i < guess.length(); i++) {\n",
    "            if (guess.charAt(i) == word.charAt(i)) {\n",
    "                hint += guess.charAt(i);\n",
    "            }\n",
    "            else if (word.indexOf(guess.charAt(i)) != -1){\n",
    "                hint += \"+\";\n",
    "            }\n",
    "            else{\n",
    "                hint += \"*\";\n",
    "            }\n",
    "            // Add your other conditions if needed\n",
    "        }\n",
    "\n",
    "        return hint;\n",
    "    }\n",
    "\n",
    "    // Testing method\n",
    "    public static void main(String[] args) {\n",
    "        HiddenWord puzzle = new HiddenWord(\"HARPS\");\n",
    "        System.out.println(puzzle.getHint(\"HELLO\"));\n",
    "        System.out.println(puzzle.getHint(\"HEART\"));\n",
    "        System.out.println(puzzle.getHint(\"HARMS\"));\n",
    "        System.out.println(puzzle.getHint(\"HARPS\"));\n",
    "    }\n",
    "}\n",
    "\n",
    "HiddenWord.main(null);\n"
   ]
  },
  {
   "cell_type": "markdown",
   "metadata": {},
   "source": [
    "<span style=\"color: blue;\">\n",
    "How indexOf to find character\n",
    "\n",
    "<span style=\"color: blue;\">\n",
    "1. The indexOf method starts searching the string from the beginning (index 0).\n",
    "\n",
    "<span style=\"color: blue;\">\n",
    "2. It examines each character in the string one by one.\n",
    "\n",
    "<span style=\"color: blue;\">\n",
    "3. If the specified character (ch) is found, it returns the index of that character.\n",
    "\n",
    "<span style=\"color: blue;\">\n",
    "4. If the character is not found, it returns -1."
   ]
  }
 ],
 "metadata": {
  "kernelspec": {
   "display_name": "Java",
   "language": "java",
   "name": "java"
  },
  "language_info": {
   "codemirror_mode": "java",
   "file_extension": ".jshell",
   "mimetype": "text/x-java-source",
   "name": "java",
   "pygments_lexer": "java",
   "version": "20.0.2+9-78"
  }
 },
 "nbformat": 4,
 "nbformat_minor": 2
}

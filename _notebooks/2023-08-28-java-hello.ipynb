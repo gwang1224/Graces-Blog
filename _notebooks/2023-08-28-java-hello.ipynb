{
 "cells": [
  {
   "attachments": {},
   "cell_type": "markdown",
   "metadata": {},
   "source": [
    "---\n",
    "# this is YAML front matter\n",
    "layout: default\n",
    "title: Java Hello\n",
    "toc: true\n",
    "description: A progressive journey through Java basics starting with the classic \"Hello, World!\" example.\n",
    "---"
   ]
  },
  {
   "attachments": {},
   "cell_type": "markdown",
   "metadata": {},
   "source": [
    "### [Object Oriented Programming](https://youtu.be/Wok4Xw_5cyY) \n",
    "\n",
    "- **Object-Oriented Programming:** an approach to creating and using models of physical or imagined objects\n",
    "- **class:** a programmer-defined blueprint from which objects are created\n",
    "- **camel case:** a naming convention where the first letter of the first word is upper or lowercase and the first letter of each additional word is uppercase\n",
    "- java is case sensitive\n",
    "- public: class can be accessed from anywhere"
   ]
  },
  {
   "cell_type": "code",
   "execution_count": null,
   "metadata": {
    "vscode": {
     "languageId": "java"
    }
   },
   "outputs": [],
   "source": [
    "public class MyFirstClass {\n",
    "    \n",
    "}"
   ]
  },
  {
   "cell_type": "markdown",
   "metadata": {},
   "source": [
    "### [Creating Objects](https://youtu.be/C5Ks_u87Ltg)\n",
    "\n",
    "- **class:** a list of attributes and instructions (a blueprint) for how to create an instance of itself\n",
    "    - **attribute:** characteristics of an object\n",
    "    - **behaviors:** actions hat an object can perform\n",
    "- **object:** an instance of the class\n",
    "- **instantiate:** to all the constructor to create an object\n",
    "- **constructor:** a block of code that has the same name as the class and tells the computer how to create a new object\n",
    "- creating objects example"
   ]
  },
  {
   "cell_type": "code",
   "execution_count": null,
   "metadata": {
    "vscode": {
     "languageId": "java"
    }
   },
   "outputs": [],
   "source": [
    "House myHouse = new House();\n",
    "\n",
    "House friendsHouse = new House();\n",
    "\n",
    "House parentsHouse = new House();"
   ]
  },
  {
   "cell_type": "markdown",
   "metadata": {},
   "source": [
    "- **state:** the attributes represented by the object's instance variables"
   ]
  },
  {
   "cell_type": "markdown",
   "metadata": {},
   "source": [
    "### [Calling Methods](https://youtu.be/CPE_lYGCw3A)\n",
    "\n",
    "- **method:** a named set of instructions to perform a task\n",
    "- **parameter:** a variable in the method that defines the type of value to receive when the method is called"
   ]
  },
  {
   "cell_type": "code",
   "execution_count": null,
   "metadata": {
    "vscode": {
     "languageId": "java"
    }
   },
   "outputs": [],
   "source": [
    "fido.bark(3);"
   ]
  },
  {
   "cell_type": "markdown",
   "metadata": {},
   "source": [
    "fido = name of object\n",
    "\n",
    ". = dot operator, used to call a method in a class\n",
    "\n",
    "bark = name of method\n",
    "\n",
    "3 = argument, a value passed to a method when the method is called"
   ]
  },
  {
   "attachments": {},
   "cell_type": "markdown",
   "metadata": {},
   "source": [
    "### Static example\n",
    "\n",
    "The key terms in HelloStatic introduction:\n",
    "- \"class\" is a blueprint for code, it is the code definition and must be called to run\n",
    "- \"method\" or \"static method\" in this case, is the code to be run/executed, similar to a procedure\n",
    "- \"method definition\" or \"signature\" are the keywords \"public static void\" in front of the name \"main\" and the parameters \"String[] args\" after the name.\n",
    "- \"method call\" is the means in which we run the defined code\n"
   ]
  },
  {
   "cell_type": "code",
   "execution_count": null,
   "metadata": {
    "vscode": {
     "languageId": "java"
    }
   },
   "outputs": [],
   "source": [
    "// Define Static Method within a Class\n",
    "public class HelloStatic {\n",
    "    // Java standard runtime entry point\n",
    "    public static void main(String[] args) {    \n",
    "        System.out.println(\"Hello World!\");\n",
    "    }\n",
    "}\n",
    "// A method call allows us to execute code that is wrapped in Class\n",
    "HelloStatic.main(null);   // Class prefix allows reference of Static Method"
   ]
  },
  {
   "attachments": {},
   "cell_type": "markdown",
   "metadata": {},
   "source": [
    "### Dynamic Example\n",
    "\n",
    "The key terms in HelloStatic introduction:\n",
    "- \"Object Oriented Programming\" focuses software design around data, or objects.\n",
    "- \"object\" contains both methods and data\n",
    "- \"instance of a class\" is the process of making an object, unique or instances of variables are created within the object\n",
    "- \"constructor\" special method in class, code that is used to initialize the data within the object\n",
    "- \"getter\" is a method that is used to extract or reference data from within the object. "
   ]
  },
  {
   "cell_type": "code",
   "execution_count": 1,
   "metadata": {
    "vscode": {
     "languageId": "java"
    }
   },
   "outputs": [
    {
     "name": "stdout",
     "output_type": "stream",
     "text": [
      "Hello, World!\n"
     ]
    }
   ],
   "source": [
    "// Define Class with Constructor returning Object\n",
    "public class HelloObject {\n",
    "    private String hello;   // instance attribute or variable\n",
    "    public HelloObject() {  // constructor\n",
    "        hello = \"Hello, World!\";\n",
    "    }\n",
    "    public String getHello() {  // getter, returns value from inside the object\n",
    "        return this.hello;  // return String from object\n",
    "    }\n",
    "    public static void main(String[] args) {    \n",
    "        HelloObject ho = new HelloObject(); // Instance of Class (ho) is an Object via \"new HelloObject()\"\n",
    "        System.out.println(ho.getHello()); // Object allows reference to public methods and data\n",
    "    }\n",
    "}\n",
    "// IJava activation\n",
    "HelloObject.main(null);"
   ]
  },
  {
   "cell_type": "code",
   "execution_count": null,
   "metadata": {
    "vscode": {
     "languageId": "java"
    }
   },
   "outputs": [],
   "source": [
    "public class HelloObject {\n",
    "    private String hello;   // instance attribute or variable\n",
    "    public HelloObject() {  // constructor\n",
    "        hello = \"Hello, World!\";\n",
    "    }\n",
    "    public String getHello() {  // getter, returns value from inside the object\n",
    "        return this.hello;  // return String from object\n",
    "    }\n",
    "    public static void main(String[] args) {    \n",
    "        HelloObject ho = new HelloObject(); // Instance of Class (ho) is an Object via \"new HelloObject()\"\n",
    "        System.out.println(ho.getHello()); // Object allows reference to public methods and data\n",
    "    }\n",
    "}\n",
    "// IJava activation\n",
    "HelloObject.main(null);"
   ]
  },
  {
   "attachments": {},
   "cell_type": "markdown",
   "metadata": {},
   "source": [
    "### Dynamic Example with two constructors\n",
    "This last example adds to the basics of the Java anatomy.  The Class now contains two constructors and a setter to go with the getter.  Also, observe the driver/tester now contains two objects that are initialized differently, 0 and 1 argument constructor.  Look at the usage of the \"this\" prefix.  The \"this\" keyword helps in clarification between instance and local variable.\n",
    "\n",
    "The key terms in HelloDynamic introduction:\n",
    "- \"0 argument constructor\" constructor method with no parameter ()\n",
    "- \"1 argument constructor\" construct method with a parameter (String hello)\n",
    "- \"this keyword\" allows you to clear reference something that is part of the object, data or method\n",
    "- \"local variable\" is a variable that is passed to the method in this example, see the 1 argument constructor as it has a local variable \"String hello\"\n",
    "- \"dynamic\" versus \"static\" is something that has option to change, static never changes.  A class (blueprint) and objects (instance of blueprint) are generally intended to be dynamic.  Constructors and Setters are used to dynamically change the content of an object.\n",
    "- \"Java OOP, Java Classes/Objects, Java Class Attributes, Java Class Methods, Java Constructors\" are explained if more complete detail in W3 Schools: https://www.w3schools.com/java/java_oop.asp"
   ]
  },
  {
   "cell_type": "code",
   "execution_count": null,
   "metadata": {
    "vscode": {
     "languageId": "java"
    }
   },
   "outputs": [],
   "source": [
    "public class Person\n",
    "{\n",
    "    // instance variables\n",
    "    private String name;\n",
    "    private String email;\n",
    "    private String github;\n",
    "\n",
    "    // constructor: construct a Person copying in the data into the instance\n",
    "    // variables\n",
    "    public Person(String initName, String initEmail, String initGit)\n",
    "    {\n",
    "        name = initName;\n",
    "        email = initEmail;\n",
    "        github = initGit;\n",
    "    }\n",
    "\n",
    "    // Print all the data for a person\n",
    "    public void print()\n",
    "    {\n",
    "        System.out.println(\"Name: \" + name);\n",
    "        System.out.println(\"Email: \" + email);\n",
    "        System.out.println(\"Phone Number: \" + github);\n",
    "    }\n",
    "\n",
    "    // main method for testing\n",
    "    public static void main(String[] args)\n",
    "    {\n",
    "        // call the constructor to create a new person\n",
    "        Person p1 = new Person(\"Grace Wang\", \"gracewang187@gmail.com\", \"gwang1224\");\n",
    "        // call p1's print method\n",
    "        p1.print();\n",
    "        Person p2 = new Person(\"Rachit Jaiswal\", \"rachitjaiswal@gmail.com\", \"rachit-j\");\n",
    "        p2.print();\n",
    "    }\n",
    "}\n",
    "\n"
   ]
  },
  {
   "cell_type": "code",
   "execution_count": 7,
   "metadata": {
    "vscode": {
     "languageId": "java"
    }
   },
   "outputs": [
    {
     "name": "stdout",
     "output_type": "stream",
     "text": [
      "Hello, World!\n",
      "Hello, Nighthawk Coding Society!\n"
     ]
    }
   ],
   "source": [
    "\n",
    "\n",
    "// Define Class\n",
    "public class HelloDynamic { // name the first letter of class as capitalized, note camel case\n",
    "    // instance variable have access modifier (private is most common), data type, and name\n",
    "    private String hello;\n",
    "    // constructor signature 1, public and zero arguments, constructors do not have return type\n",
    "    public HelloDynamic() {  // 0 argument constructor\n",
    "        this.setHello(\"Hello, World!\");  // using setter with static string\n",
    "    }\n",
    "    // constructor signature, public and one argument\n",
    "    public HelloDynamic(String hello) { // 1 argument constructor\n",
    "        this.setHello(hello);   // using setter with local variable passed into constructor\n",
    "    }\n",
    "    // setter/mutator, setter have void return type and a parameter\n",
    "    public void setHello(String hello) { // setter\n",
    "        this.hello = hello;     // instance variable on the left, local variable on the right\n",
    "    }\n",
    "    // getter/accessor, getter used to return private instance variable (encapsulated), return type is String\n",
    "    public String getHello() {  // getter\n",
    "        return this.hello;\n",
    "    }\n",
    "    // public static void main(String[] args) is signature for main/drivers/tester method\n",
    "    // a driver/tester method is singular or called a class method, it is never part of an object\n",
    "    public static void main(String[] args) {  \n",
    "        HelloDynamic hd1 = new HelloDynamic(); // no argument constructor\n",
    "        HelloDynamic hd2 = new HelloDynamic(\"Hello, Nighthawk Coding Society!\"); // one argument constructor\n",
    "        System.out.println(hd1.getHello()); // accessing getter\n",
    "        System.out.println(hd2.getHello()); \n",
    "    }\n",
    "}\n",
    "// IJava activation"
   ]
  },
  {
   "attachments": {},
   "cell_type": "markdown",
   "metadata": {},
   "source": [
    "## Hacks\n",
    "Build your own Jupyter Notebook meeting these College Board and CTE competencies.  It is critical to understand Static versus Instance Now, this is College Board requirement!!!\n",
    "- Explain [Anatomy of a Class](https://runestone.academy/ns/books/published/csawesome/Unit5-Writing-Classes/topic-5-1-parts-of-class.html) in comments of program (Diagram key parts of the class).\n",
    "- Comment in code where there is a definition of a Class and an instance of a Class (ie object)\n",
    "- Comment in code where there are constructors and highlight the signature difference in the signature\n",
    "- Call an object method with parameter (ie setters).\n",
    "\n",
    "\n",
    "Additional requirements (Pick something)\n",
    "1. Go through code progression of understanding Class usage and generating an Instance of a Class (Object).\n",
    "\n",
    "    a. Build a purposeful dynamic Class, using an Object, generate multiple instances: \n",
    "        - Person: Name and Age\n",
    "        - Dessert: Type and Cost\n",
    "        - Location: City, State, Zip\n",
    "\n",
    "    b. Create a static void main tester method to generate objects of the class.\n",
    "\n",
    "    c. In tester method, show how setters/mutators can be used to make the data in the Object dynamically change\n",
    "\n",
    "3. Go through progression of understanding a Static Class.  Build a purposeful static Class, no Objects.\n",
    "\n",
    "    - Calculate common operations on a Date field, age since date, older of two dates, number of seconds since date\n",
    "    \n",
    "    - Calculate stats functions on an array of values: mean, median, mode."
   ]
  },
  {
   "cell_type": "code",
   "execution_count": 8,
   "metadata": {
    "vscode": {
     "languageId": "java"
    }
   },
   "outputs": [
    {
     "name": "stdout",
     "output_type": "stream",
     "text": [
      "Welcome to the Number Guessing Game!\n",
      "I have selected a number between 1 and 100. Try to guess it!\n",
      "Enter your guess: Too low! Try again.\n",
      "Enter your guess: Too low! Try again.\n",
      "Enter your guess: Too low! Try again.\n",
      "Enter your guess: Too high! Try again.\n",
      "Enter your guess: Too high! Try again.\n",
      "Enter your guess: Too high! Try again.\n",
      "Enter your guess: Too low! Try again.\n",
      "Enter your guess: Congratulations! You've guessed the number 84 in 8 attempts.\n"
     ]
    }
   ],
   "source": [
    "import java.util.Random;\n",
    "import java.util.Scanner;\n",
    "\n",
    "public class NumberGuessingGame {\n",
    "\n",
    "    public static void main(String[] args) {\n",
    "        Scanner scanner = new Scanner(System.in);\n",
    "        Random random = new Random();\n",
    "        \n",
    "        int lowerBound = 1;\n",
    "        int upperBound = 100;\n",
    "        int secretNumber = random.nextInt(upperBound - lowerBound + 1) + lowerBound;\n",
    "        \n",
    "        System.out.println(\"Welcome to the Number Guessing Game!\");\n",
    "        System.out.println(\"I have selected a number between \" + lowerBound + \" and \" + upperBound + \". Try to guess it!\");\n",
    "\n",
    "        int attempts = 0;\n",
    "        int guess = 0;\n",
    "        \n",
    "        while (guess != secretNumber) {\n",
    "            System.out.print(\"Enter your guess: \");\n",
    "            guess = scanner.nextInt();\n",
    "            attempts++;\n",
    "            \n",
    "            if (guess < secretNumber) {\n",
    "                System.out.println(\"Too low! Try again.\");\n",
    "            } else if (guess > secretNumber) {\n",
    "                System.out.println(\"Too high! Try again.\");\n",
    "            }\n",
    "        }\n",
    "\n",
    "        System.out.println(\"Congratulations! You've guessed the number \" + secretNumber + \" in \" + attempts + \" attempts.\");\n",
    "        scanner.close();\n",
    "    }\n",
    "}\n",
    "\n",
    "NumberGuessingGame.main(null);"
   ]
  }
 ],
 "metadata": {
  "kernelspec": {
   "display_name": "Java",
   "language": "java",
   "name": "java"
  },
  "language_info": {
   "codemirror_mode": "java",
   "file_extension": ".jshell",
   "mimetype": "text/x-java-source",
   "name": "Java",
   "pygments_lexer": "java",
   "version": "20.0.2+9-78"
  },
  "orig_nbformat": 4
 },
 "nbformat": 4,
 "nbformat_minor": 2
}

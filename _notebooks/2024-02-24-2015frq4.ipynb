{
 "cells": [
  {
   "cell_type": "markdown",
   "metadata": {},
   "source": [
    "---\n",
    "toc: true\n",
    "comments: true\n",
    "layout: default\n",
    "title: Collegeboard 2015 FRQ Question 4\n",
    "type: hacks\n",
    "---"
   ]
  },
  {
   "cell_type": "code",
   "execution_count": 30,
   "metadata": {},
   "outputs": [],
   "source": [
    "public interface NumberGroup \n",
    "{\n",
    "     public boolean contains(int num);\n",
    "}"
   ]
  },
  {
   "cell_type": "markdown",
   "metadata": {},
   "source": [
    "### Part B\n",
    "\n",
    "![](https://cdn.discordapp.com/attachments/879557685253664768/1211177245335486535/Screenshot_2024-02-24_at_9.05.48_PM.png?ex=65ed3fb5&is=65dacab5&hm=f67a842ff4d80786355893746f16e72e577f2f521dee4e68b2c6528874ab5d67&)"
   ]
  },
  {
   "cell_type": "code",
   "execution_count": 34,
   "metadata": {},
   "outputs": [
    {
     "name": "stdout",
     "output_type": "stream",
     "text": [
      "false\n",
      "true\n",
      "true\n",
      "true\n",
      "false\n"
     ]
    }
   ],
   "source": [
    "public class Range implements NumberGroup{\n",
    "    private int min;\n",
    "    private int max;\n",
    "\n",
    "    public Range(int min, int max){\n",
    "        this.min = min;\n",
    "        this.max = max;\n",
    "    }\n",
    " \n",
    "    public boolean contains(int num){\n",
    "        return num >= min && num <= max;\n",
    "    }\n",
    "\n",
    "    public static void main(String[] args) {\n",
    "        NumberGroup range = new Range(-3, 2);\n",
    "\n",
    "        System.out.println(range.contains(-10));\n",
    "        System.out.println(range.contains(-3));\n",
    "        System.out.println(range.contains(0));\n",
    "        System.out.println(range.contains(1)); \n",
    "        System.out.println(range.contains(5));\n",
    "    }\n",
    "} \n",
    "\n",
    "Range.main(null);"
   ]
  },
  {
   "cell_type": "markdown",
   "metadata": {},
   "source": [
    "### Part C\n",
    "\n",
    "![](https://cdn.discordapp.com/attachments/879557685253664768/1211177410985332746/Screenshot_2024-02-24_at_9.06.34_PM.png?ex=65ed3fdd&is=65dacadd&hm=4419cb271a9c59f06d43631021636540d1b37e9f094b0aadd2b7bf78d9236f25&)"
   ]
  },
  {
   "cell_type": "code",
   "execution_count": 36,
   "metadata": {},
   "outputs": [
    {
     "name": "stdout",
     "output_type": "stream",
     "text": [
      "true\n",
      "false\n",
      "true\n"
     ]
    }
   ],
   "source": [
    "public class MultipleGroups implements NumberGroup {\n",
    "    private List<NumberGroup> groupList;\n",
    "\n",
    "    public MultipleGroups() {\n",
    "        groupList = new ArrayList<>();\n",
    "        groupList.add(new Range(5, 8));\n",
    "        groupList.add(new Range(10, 12));\n",
    "        groupList.add(new Range(1, 6));\n",
    "    }\n",
    "\n",
    "    public boolean contains(int num) {\n",
    "        for (NumberGroup group : groupList) {\n",
    "            if (group.contains(num)) {\n",
    "                return true;\n",
    "            }\n",
    "        }\n",
    "        return false;\n",
    "    }\n",
    "}\n",
    "\n",
    "// Test  \n",
    "class MultipleGroupsTest {\n",
    "    public static void main(String[] args) {\n",
    "        MultipleGroups multiple = new MultipleGroups();\n",
    "\n",
    "        System.out.println(multiple.contains(3)); // should return true\n",
    "        System.out.println(multiple.contains(9)); // should return false\n",
    "        System.out.println(multiple.contains(5)); // should return true\n",
    "    }\n",
    "}\n",
    "\n",
    "MultipleGroupsTest.main(null);\n"
   ]
  }
 ],
 "metadata": {
  "kernelspec": {
   "display_name": "Java",
   "language": "java",
   "name": "java"
  },
  "language_info": {
   "codemirror_mode": "java",
   "file_extension": ".jshell",
   "mimetype": "text/x-java-source",
   "name": "java",
   "pygments_lexer": "java",
   "version": "20.0.2+9-78"
  }
 },
 "nbformat": 4,
 "nbformat_minor": 2
}

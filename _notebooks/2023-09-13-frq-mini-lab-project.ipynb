{
 "cells": [
  {
   "cell_type": "markdown",
   "metadata": {},
   "source": [
    "---\n",
    "title: FRQ Mini-lab project\n",
    "description: Preparing for types of FRQ questions tested by College Board\n",
    "layout: default\n",
    "courses: { labnotebook: {week: 4} }\n",
    "type: hacks\n",
    "---"
   ]
  },
  {
   "cell_type": "markdown",
   "metadata": {},
   "source": [
    "[AP Computer Science A College Board](https://apcentral.collegeboard.org/media/pdf/ap23-frq-comp-sci-a.pdf)"
   ]
  },
  {
   "cell_type": "markdown",
   "metadata": {},
   "source": [
    "## FRQ 2\n",
    "\n",
    "This FRQ asks you to write an entire class, given specifications of what the class should do, and including any variables and methods the class should include.\n",
    "\n",
    "- **class:** a list of attributes and instructions (a blueprint) for how to create an instance of itself\n",
    "    - **attribute:** characteristics of an object\n",
    "    - **behaviors:** actions hat an object can perform\n",
    "- **object:** an instance of the class\n",
    "- **instantiate:** to all the constructor to create an object\n",
    "- **constructor:** a block of code that has the same name as the class and tells the computer how to create a new object\n",
    "- creating objects example\n",
    "- **parameters:** values that you can pass into methods or constructors to provide input or configuration for their operations\n",
    "- **methods:** a function"
   ]
  },
  {
   "cell_type": "markdown",
   "metadata": {},
   "source": [
    "![Question 2](https://cdn.discordapp.com/attachments/1010780182476496908/1153053113511596052/Untitled_drawing_4.png)"
   ]
  },
  {
   "cell_type": "markdown",
   "metadata": {},
   "source": [
    "![Question 2.1](https://cdn.discordapp.com/attachments/1010780182476496908/1153052783604416542/Untitled_drawing_3.png)"
   ]
  },
  {
   "cell_type": "markdown",
   "metadata": {},
   "source": [
    "After reading FRQ, we are tasked with creating a sign with a specific number of characters per line.\n",
    "\n",
    "- **Class Description**: Create a `Sign` class.\n",
    "  \n",
    "- **Constructor**: The class has a constructor with two parameters:\n",
    "  - A `String` message to be displayed on the sign.\n",
    "  - An `int` representing the width of each line on the sign.\n",
    "\n",
    "- **numberOfLines Method**: Implement a method called `numberOfLines` that returns the number of lines needed to display the text on the sign.\n",
    "\n",
    "- **getLines Method**: Implement a method called `getLines` that returns the message broken into lines separated by semicolons (`;`) or `null` if the message is empty. No semicolon should appear at the end of the returned string.\n",
    "\n",
    "- **Testing**: Create instances of the `Sign` class with different parameters and test the `numberOfLines` and `getLines` methods to ensure correct behavior."
   ]
  },
  {
   "cell_type": "code",
   "execution_count": 4,
   "metadata": {
    "vscode": {
     "languageId": "java"
    }
   },
   "outputs": [],
   "source": [
    "// STEP 1: Create class\n",
    "public class Sign\n",
    "{\n",
    "    // STEP 1: Create class\n",
    "    private String m;\n",
    "    private int w;\n",
    "\n",
    "    // STEP 3: Create constructor with two parameters referencing information given in the table\n",
    "    public Sign(String message, int width)\n",
    "    {\n",
    "        this.m = message;\n",
    "        this.w = width;\n",
    "    }\n",
    "\n",
    "    // STEP 4: Create numberOfLines() method with no parameters\n",
    "        // Method should divide message by width of sign\n",
    "        // If result has a remainder, another line must be added\n",
    "    public int numberOfLines()\n",
    "    {\n",
    "       int result = m.length() / w;\n",
    "       if(m.length() % w > 0)\n",
    "       {\n",
    "            result += 1;\n",
    "       }\n",
    "       return result; \n",
    "    }\n",
    "\n",
    "    // STEP 5: Create getLines() method with no parameters\n",
    "        // If length = 0, return null\n",
    "        // Write message based on message length, adding a semicolon at the end\n",
    "    public String getLines()\n",
    "    {\n",
    "        if(m.length() == 0)\n",
    "        {\n",
    "            return null;\n",
    "        }\n",
    "        String result = \"\";\n",
    "        int count = 0;\n",
    "\n",
    "        for(int i = 0; i < m.length(); i++)\n",
    "        {\n",
    "            if(count == w)\n",
    "            {\n",
    "                result += \";\";\n",
    "                count = 0;\n",
    "            }\n",
    "            result += m.substring(i, i+1);\n",
    "            count++;\n",
    "        }\n",
    "\n",
    "        return result;\n",
    "    }\n",
    "    \n",
    "\n",
    "}"
   ]
  },
  {
   "cell_type": "markdown",
   "metadata": {},
   "source": [
    "## Testing the Code\n",
    "\n",
    "Using the table provided by College Board, we test the code by instantiating class Sign and providing different parameters to see if the method call return value is expected."
   ]
  },
  {
   "cell_type": "code",
   "execution_count": 5,
   "metadata": {
    "vscode": {
     "languageId": "java"
    }
   },
   "outputs": [
    {
     "name": "stdout",
     "output_type": "stream",
     "text": [
      "ABC;222;DE\n",
      "3\n"
     ]
    }
   ],
   "source": [
    "String str;\n",
    "int x;\n",
    "\n",
    "Sign sign1 = new Sign (\"ABC222DE\", 3);\n",
    "x = sign1.numberOfLines();\n",
    "str = sign1.getLines();\n",
    "\n",
    "System.out.println(str);\n",
    "System.out.println(x);"
   ]
  },
  {
   "cell_type": "code",
   "execution_count": 6,
   "metadata": {
    "vscode": {
     "languageId": "java"
    }
   },
   "outputs": [
    {
     "name": "stdout",
     "output_type": "stream",
     "text": [
      "ABCD\n",
      "1\n"
     ]
    }
   ],
   "source": [
    "Sign sign2 = new Sign (\"ABCD\", 10);\n",
    "\n",
    "x = sign2.numberOfLines();\n",
    "str = sign2.getLines();\n",
    "\n",
    "System.out.println(str);\n",
    "System.out.println(x);"
   ]
  },
  {
   "cell_type": "code",
   "execution_count": 7,
   "metadata": {
    "vscode": {
     "languageId": "java"
    }
   },
   "outputs": [
    {
     "name": "stdout",
     "output_type": "stream",
     "text": [
      "AB;CD;EF\n",
      "3\n"
     ]
    }
   ],
   "source": [
    "Sign sign3 = new Sign(\"ABCDEF\",2);\n",
    "\n",
    "x = sign3.numberOfLines();\n",
    "str = sign3.getLines();\n",
    "\n",
    "System.out.println(str);\n",
    "System.out.println(x);\n"
   ]
  },
  {
   "cell_type": "code",
   "execution_count": 9,
   "metadata": {
    "vscode": {
     "languageId": "java"
    }
   },
   "outputs": [
    {
     "name": "stdout",
     "output_type": "stream",
     "text": [
      "null\n",
      "0\n"
     ]
    }
   ],
   "source": [
    "Sign sign4 = new Sign(\"\",4);\n",
    "\n",
    "x = sign4.numberOfLines();\n",
    "str = sign4.getLines();\n",
    "\n",
    "System.out.println(str);\n",
    "System.out.println(x);"
   ]
  },
  {
   "cell_type": "code",
   "execution_count": 10,
   "metadata": {
    "vscode": {
     "languageId": "java"
    }
   },
   "outputs": [
    {
     "name": "stdout",
     "output_type": "stream",
     "text": [
      "AB;_C;D_;EF\n",
      "4\n"
     ]
    }
   ],
   "source": [
    "Sign sign5 = new Sign(\"AB_CD_EF\", 2);\n",
    "\n",
    "x = sign5.numberOfLines();\n",
    "str = sign5.getLines();\n",
    "\n",
    "System.out.println(str);\n",
    "System.out.println(x);"
   ]
  }
 ],
 "metadata": {
  "kernelspec": {
   "display_name": "Java",
   "language": "java",
   "name": "java"
  },
  "language_info": {
   "codemirror_mode": "java",
   "file_extension": ".jshell",
   "mimetype": "text/x-java-source",
   "name": "Java",
   "pygments_lexer": "java",
   "version": "20.0.2+9-78"
  },
  "orig_nbformat": 4
 },
 "nbformat": 4,
 "nbformat_minor": 2
}

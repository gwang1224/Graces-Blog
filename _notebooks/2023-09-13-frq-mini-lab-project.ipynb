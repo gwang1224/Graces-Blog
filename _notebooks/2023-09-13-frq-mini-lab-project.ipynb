{
 "cells": [
  {
   "cell_type": "markdown",
   "metadata": {},
   "source": [
    "---\n",
    "title: FRQ Mini-lab project\n",
    "description: Preparing for types of FRQ questions tested by College Board\n",
    "layout: default\n",
    "courses: { labnotebook: {week: } }\n",
    "type: hacks\n",
    "---"
   ]
  },
  {
   "cell_type": "code",
   "execution_count": null,
   "metadata": {},
   "outputs": [],
   "source": []
  }
 ],
 "metadata": {
  "language_info": {
   "name": "python"
  },
  "orig_nbformat": 4
 },
 "nbformat": 4,
 "nbformat_minor": 2
}

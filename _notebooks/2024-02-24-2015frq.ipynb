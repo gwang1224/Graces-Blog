{
 "cells": [
  {
   "cell_type": "markdown",
   "metadata": {},
   "source": [
    "---\n",
    "toc: true\n",
    "comments: true\n",
    "layout: default\n",
    "title: Collegeboard 2015 FRQs\n",
    "type: hacks\n",
    "---"
   ]
  },
  {
   "cell_type": "markdown",
   "metadata": {},
   "source": [
    "# Collegeboard 2015 FRQs\n",
    "\n",
    "## Question 1\n",
    "\n",
    "![](https://cdn.discordapp.com/attachments/879557685253664768/1211373388140912640/Screenshot_2024-02-25_at_10.04.25_AM.png?ex=65edf661&is=65db8161&hm=0010e1942d7dc8a6ab1281c88e1b4e12803f8dc69c61cbfde1b74a0d63d5471b&)"
   ]
  },
  {
   "cell_type": "markdown",
   "metadata": {},
   "source": [
    "<span style=\"color: blue;\">A static method in Java is a method that belongs to a class rather than an instance of the class, allowing it to be called directly on the class without creating an object. It is declared using the static keyword and cannot access instance variables or use the this keyword.</span>\n",
    "\n",
    "How to call a static method\n",
    "\n",
    "```\n",
    "Access_modifier static void methodName()\n",
    "{ \n",
    "     // Method body.\n",
    "} \n",
    "```"
   ]
  },
  {
   "cell_type": "code",
   "execution_count": 20,
   "metadata": {
    "vscode": {
     "languageId": "java"
    }
   },
   "outputs": [
    {
     "name": "stdout",
     "output_type": "stream",
     "text": [
      "Array: [1, 3, 2, 7, 3]\n",
      "Sum: 16"
     ]
    }
   ],
   "source": [
    "// Returns the sum of the entries in the one-dimensional array arr.\n",
    "\n",
    "public static int arraySum (int [ ] arr){\n",
    "    int sum = 0;\n",
    "\n",
    "    // for every integer in array, add it to sum\n",
    "    for(int i : arr)\n",
    "        sum += i;\n",
    "    \n",
    "    return sum;\n",
    "}\n",
    "\n",
    "// Test\n",
    "int[] array = {1, 3, 2, 7, 3};\n",
    "System.out.print(\"Array: \");\n",
    "System.out.println(Arrays.toString(array));\n",
    "\n",
    "System.out.print(\"Sum: \");\n",
    "System.out.print(arraySum(array));"
   ]
  },
  {
   "cell_type": "markdown",
   "metadata": {},
   "source": [
    "## Part B\n",
    "\n",
    "![](https://cdn.discordapp.com/attachments/879557685253664768/1211373388484968478/Screenshot_2024-02-25_at_10.05.06_AM.png?ex=65edf662&is=65db8162&hm=0038cbc3b3fe2e25a0bc59adb453e62f93de74d72953ce117be235787173aabb&)\n",
    "\n",
    "![](https://cdn.discordapp.com/attachments/879557685253664768/1211373388824838254/Screenshot_2024-02-25_at_10.05.18_AM.png?ex=65edf662&is=65db8162&hm=83e031f5b77cf6c56e24d8cff705f51c33ab6d7433330b85bc9634f60d9ba2e7&)"
   ]
  },
  {
   "cell_type": "code",
   "execution_count": 21,
   "metadata": {
    "vscode": {
     "languageId": "java"
    }
   },
   "outputs": [
    {
     "name": "stdout",
     "output_type": "stream",
     "text": [
      "Sum Array: [16, 32, 28, 20]"
     ]
    }
   ],
   "source": [
    "// Returns a one-dimensional array in which the entry at index k is the sum of \n",
    "// the entries of row k of the two-dimensional array arr2D.\n",
    "\n",
    "public static int[] rowSums(int[][] arr2D){\n",
    "    int[] sums = new int[arr2D.length];\n",
    "\n",
    "    int rowNum = 0;\n",
    "\n",
    "    // Iterates through the rows of the 2D array\n",
    "    for (int[] row: arr2D){\n",
    "\n",
    "        // Uses the function written in Part A\n",
    "        sums[rowNum] = arraySum(row);\n",
    "\n",
    "        rowNum++;\n",
    "    }\n",
    "\n",
    "    return sums;\n",
    "}\n",
    "\n",
    "// Test\n",
    "int[][] my2DArray = { {1, 3, 2, 7, 3}, {10, 10, 4, 6, 2}, {5, 3, 5, 9, 6}, {7, 6, 4, 2, 1}};\n",
    "\n",
    "System.out.print(\"Sum Array: \");\n",
    "System.out.print(Arrays.toString(rowSums(my2DArray)));"
   ]
  },
  {
   "cell_type": "markdown",
   "metadata": {},
   "source": [
    "### Part C\n",
    "\n",
    "![](https://cdn.discordapp.com/attachments/879557685253664768/1211373668593045544/Screenshot_2024-02-25_at_10.06.25_AM.png?ex=65edf6a4&is=65db81a4&hm=a6ca12d83850d6200461654db8653e1a38c2bba68a680babe283dcca7874c583&)\n",
    "\n",
    "![](https://cdn.discordapp.com/attachments/879557685253664768/1211373792958484560/Screenshot_2024-02-25_at_10.06.43_AM.png?ex=65edf6c2&is=65db81c2&hm=03020adae793b8235c949a80430ec75dfc1ec5996ec9832a6a526e87634d6898&)"
   ]
  },
  {
   "cell_type": "markdown",
   "metadata": {},
   "source": [
    "<span style=\"color: blue;\">\n",
    "Reminder of how for loops work:\n",
    "\n",
    "<span style=\"color: blue;\">\n",
    "Initialization: Executed once at the beginning of the loop.\n",
    "\n",
    "<span style=\"color: blue;\">\n",
    "Condition: Checked before each iteration. If false, the loop exits.\n",
    "\n",
    "<span style=\"color: blue;\">\n",
    "Update: Executed after each iteration.\n",
    "\n",
    "\n",
    "```\n",
    "for (initialization; condition; update) {\n",
    "    // Code to be repeated\n",
    "}\n",
    "```"
   ]
  },
  {
   "cell_type": "code",
   "execution_count": 39,
   "metadata": {
    "vscode": {
     "languageId": "java"
    }
   },
   "outputs": [
    {
     "name": "stdout",
     "output_type": "stream",
     "text": [
      "Sums of 2nd array: \n",
      "[16, 32, 28, 20]\n",
      "Is the first array diverse? \n",
      "true\n",
      "\n",
      "Sums of 2nd array: \n"
     ]
    },
    {
     "name": "stdout",
     "output_type": "stream",
     "text": [
      "[14, 36, 36, 14]\n",
      "Is the first array diverse? \n",
      "false"
     ]
    }
   ],
   "source": [
    "// Returns true if all rows in arr2D have different row sums; false otherwise.\n",
    "\n",
    "public static boolean isDiverse(int [ ] [ ] arr2D){\n",
    "    int[] sums = rowSums(arr2D);\n",
    "\n",
    "    for (int i = 0; i < sums.length; i++) {\n",
    "        \n",
    "        // Iterate through each pair of rows starting from i+1\n",
    "        for (int j = i + 1; j < sums.length; j++) {\n",
    "            if (sums[i] == sums[j]) {\n",
    "                return false;\n",
    "            }\n",
    "        }\n",
    "    }\n",
    "    return true;\n",
    "\n",
    "}\n",
    "\n",
    "\n",
    "// Testing\n",
    "int[][] mat1 = { {1, 3, 2, 7, 3}, {10, 10, 4, 6, 2}, {5, 3, 5, 9, 6}, {7, 6, 4, 2, 1}};\n",
    "System.out.println(\"Sums of 2nd array: \");\n",
    "System.out.println(Arrays.toString(rowSums(mat1)));\n",
    "System.out.println(\"Is the first array diverse? \");\n",
    "System.out.print(isDiverse(mat1));\n",
    "System.out.println();\n",
    "System.out.println();\n",
    "\n",
    "int[][] mat2 = { {1, 1, 5, 3, 4}, {12, 7, 6, 2, 9}, {8, 11, 10, 2, 5}, {3, 2, 3, 0, 6}};\n",
    "System.out.println(\"Sums of 2nd array: \");\n",
    "System.out.println(Arrays.toString(rowSums(mat2)));\n",
    "System.out.println(\"Is the first array diverse? \");\n",
    "System.out.print(isDiverse(mat2));"
   ]
  },
  {
   "cell_type": "markdown",
   "metadata": {},
   "source": [
    "## Question 2\n",
    "\n",
    "![](https://cdn.discordapp.com/attachments/879557685253664768/1211384649662726215/Screenshot_2024-02-25_at_10.49.44_AM.png?ex=65ee00de&is=65db8bde&hm=fd4f7091bc9f8ee47ba0b8c08b49d396f60a6efdc188834bd23c86243b5952b2&)\n",
    "\n",
    "![](https://cdn.discordapp.com/attachments/879557685253664768/1211384650023440424/Screenshot_2024-02-25_at_10.50.03_AM.png?ex=65ee00df&is=65db8bdf&hm=190a6cbc1fecb6aac646a201a36a8aa70109298397aa8bac89ed828a44cc1d11&)"
   ]
  },
  {
   "cell_type": "code",
   "execution_count": 55,
   "metadata": {
    "vscode": {
     "languageId": "java"
    }
   },
   "outputs": [
    {
     "name": "stdout",
     "output_type": "stream",
     "text": [
      "H****\n",
      "H*++*\n",
      "HAR*S\n",
      "HARPS\n"
     ]
    }
   ],
   "source": [
    "public class HiddenWord {\n",
    "    private String word;\n",
    "\n",
    "    public HiddenWord(String word) {\n",
    "        this.word = word;\n",
    "    }\n",
    "\n",
    "    public String getHint(String guess) {\n",
    "        String hint = \"\";\n",
    "\n",
    "        for (int i = 0; i < guess.length(); i++) {\n",
    "            if (guess.charAt(i) == word.charAt(i)) {\n",
    "                hint += guess.charAt(i);\n",
    "            }\n",
    "            else if (word.indexOf(guess.charAt(i)) != -1){\n",
    "                hint += \"+\";\n",
    "            }\n",
    "            else{\n",
    "                hint += \"*\";\n",
    "            }\n",
    "            // Add your other conditions if needed\n",
    "        }\n",
    "\n",
    "        return hint;\n",
    "    }\n",
    "\n",
    "    // Testing method\n",
    "    public static void main(String[] args) {\n",
    "        HiddenWord puzzle = new HiddenWord(\"HARPS\");\n",
    "        System.out.println(puzzle.getHint(\"HELLO\"));\n",
    "        System.out.println(puzzle.getHint(\"HEART\"));\n",
    "        System.out.println(puzzle.getHint(\"HARMS\"));\n",
    "        System.out.println(puzzle.getHint(\"HARPS\"));\n",
    "    }\n",
    "}\n",
    "\n",
    "HiddenWord.main(null);\n"
   ]
  },
  {
   "cell_type": "markdown",
   "metadata": {},
   "source": [
    "<span style=\"color: blue;\">\n",
    "How indexOf to find character\n",
    "\n",
    "<span style=\"color: blue;\">\n",
    "1. The indexOf method starts searching the string from the beginning (index 0).\n",
    "\n",
    "<span style=\"color: blue;\">\n",
    "2. It examines each character in the string one by one.\n",
    "\n",
    "<span style=\"color: blue;\">\n",
    "3. If the specified character (ch) is found, it returns the index of that character.\n",
    "\n",
    "<span style=\"color: blue;\">\n",
    "4. If the character is not found, it returns -1."
   ]
  },
  {
   "cell_type": "markdown",
   "metadata": {},
   "source": [
    "## Question 3\n",
    "\n",
    "![](https://cdn.discordapp.com/attachments/879557685253664768/1211391035284914216/Screenshot_2024-02-25_at_11.14.17_AM.png?ex=65ee06d1&is=65db91d1&hm=b03ebbda978f5daab9f4ee6a0a8ead802695269ecb1fbd6793088c725dd5f286&)\n",
    "\n",
    "![](https://cdn.discordapp.com/attachments/879557685253664768/1211391035658211410/Screenshot_2024-02-25_at_11.14.42_AM.png?ex=65ee06d1&is=65db91d1&hm=60d96720ae9a7d4bdbf462b5f3e97dd48c4fc578c9e57f6a39d439acb996b3bb&)\n",
    "\n",
    "![](https://cdn.discordapp.com/attachments/879557685253664768/1211391035998216192/Screenshot_2024-02-25_at_11.15.17_AM.png?ex=65ee06d1&is=65db91d1&hm=038beab13931891fddb174d9d5d7b426f39c4a8751bdc6d399d449b596674a7b&)\n",
    "\n",
    "![](https://cdn.discordapp.com/attachments/879557685253664768/1211391385404710972/Screenshot_2024-02-25_at_11.16.01_AM.png?ex=65ee0724&is=65db9224&hm=23b4077494963e6548df37ba3ef93ee8695cf788c22842c483ea12fdc5ebf2a3&)"
   ]
  },
  {
   "cell_type": "code",
   "execution_count": 12,
   "metadata": {
    "vscode": {
     "languageId": "java"
    }
   },
   "outputs": [
    {
     "name": "stdout",
     "output_type": "stream",
     "text": [
      "0 0 0 0 0 \n",
      "0 5 0 0 4 \n",
      "1 0 0 0 0 \n",
      "0 -9 0 0 0 \n",
      "0 0 0 0 0 \n",
      "\n",
      "4\n",
      "1\n",
      "0\n"
     ]
    }
   ],
   "source": [
    "class SparseArrayEntry {\n",
    "    private int row;\n",
    "    private int col;\n",
    "    private int value;\n",
    "\n",
    "    public SparseArrayEntry(int row, int col, int value) {\n",
    "        this.row = row;\n",
    "        this.col = col;\n",
    "        this.value = value;\n",
    "    }\n",
    "\n",
    "    public int getRow() {\n",
    "        return row;\n",
    "    }\n",
    "\n",
    "    public int getCol() {\n",
    "        return col;\n",
    "    }\n",
    "\n",
    "    public int getValue() {\n",
    "        return value;\n",
    "    }\n",
    "}\n",
    "\n",
    "class SparseArray {\n",
    "    private List<SparseArrayEntry> entries;\n",
    "    private int numRows;\n",
    "    private int numCols;\n",
    "\n",
    "    public SparseArray(int numRows, int numCols) {\n",
    "        this.numRows = numRows;\n",
    "        this.numCols = numCols;\n",
    "        entries = new ArrayList<>();\n",
    "    }\n",
    "\n",
    "    public void addEntry(int row, int col, int value) {\n",
    "        entries.add(new SparseArrayEntry(row, col, value));\n",
    "    }\n",
    "\n",
    "    public int getNumRows() {\n",
    "        return numRows;\n",
    "    }\n",
    "\n",
    "    public int getNumCols() {\n",
    "        return numCols;\n",
    "    }\n",
    "\n",
    "    public int getValueAt(int row, int col) {\n",
    "        for (SparseArrayEntry e : entries) {\n",
    "            if (e.getRow() == row && e.getCol() == col) {\n",
    "                return e.getValue();\n",
    "            }\n",
    "        }\n",
    "        return 0;\n",
    "    }\n",
    "\n",
    "    // Test for printing array\n",
    "    public void printSparseArray() {\n",
    "        for (int i = 0; i < numRows; i++) {\n",
    "            for (int j = 0; j < numCols; j++) {\n",
    "                int value = getValueAt(i, j);\n",
    "                System.out.print(value + \" \");\n",
    "            }\n",
    "            System.out.println();  // Move to the next line after each row\n",
    "        }\n",
    "    }\n",
    "\n",
    "    // Test\n",
    "    public static void main(String[] args) {\n",
    "        SparseArray sparseArray = new SparseArray(5, 5); \n",
    "        sparseArray.addEntry(1, 4, 4); \n",
    "        sparseArray.addEntry(2, 0, 1); \n",
    "        sparseArray.addEntry(3, 1, -9);\n",
    "        sparseArray.addEntry(1, 1, 5);\n",
    "\n",
    "        sparseArray.printSparseArray();\n",
    "\n",
    "        System.out.println();\n",
    "\n",
    "        //Test with Row 2 Column 5\n",
    "        System.out.println(sparseArray.getValueAt(1, 4)); \n",
    "\n",
    "        //Test with Row 3 Column 1\n",
    "        System.out.println(sparseArray.getValueAt(2, 0)); \n",
    "\n",
    "        //Test with Row 5 Column 5\n",
    "        System.out.println(sparseArray.getValueAt(4, 4)); \n",
    "    }\n",
    "}\n",
    "\n",
    "SparseArray.main(null);"
   ]
  },
  {
   "cell_type": "markdown",
   "metadata": {},
   "source": [
    "![](https://cdn.discordapp.com/attachments/879557685253664768/1211391385744318484/Screenshot_2024-02-25_at_11.16.20_AM.png?ex=65ee0724&is=65db9224&hm=694413dceed5092c952423c344bc7a21189b980c49f69a1c6a72147931f957f2&)\n",
    "\n",
    "![](https://cdn.discordapp.com/attachments/879557685253664768/1211391386084053094/Screenshot_2024-02-25_at_11.16.33_AM.png?ex=65ee0725&is=65db9225&hm=029b1368e571238feafc86306688b2f822be08352720ab9d7878000f3f3cb4f8&)\n",
    "\n",
    "![](https://cdn.discordapp.com/attachments/879557685253664768/1211391540501676052/Screenshot_2024-02-25_at_11.17.26_AM.png?ex=65ee0749&is=65db9249&hm=6ab31d08d65742fb4948ea31e7744a0fd8c71d568d1cd5f75cbfea555666d9dc&)"
   ]
  },
  {
   "cell_type": "code",
   "execution_count": 26,
   "metadata": {
    "vscode": {
     "languageId": "java"
    }
   },
   "outputs": [
    {
     "name": "stdout",
     "output_type": "stream",
     "text": [
      "0 0 0 0 0 \n",
      "0 5 0 0 4 \n",
      "1 0 0 0 0 \n",
      "0 -9 0 0 0 \n",
      "0 0 0 0 0 \n",
      "Value at Row 2 Column 5: 4\n",
      "Value at Row 3 Column 1: 1\n",
      "Value at Row 5 Column 5: 0\n",
      "\n",
      "0 0 0 0 \n",
      "0 0 0 4 \n",
      "1 0 0 0 \n",
      "0 0 0 0 \n",
      "0 0 0 0 \n",
      "Value at Row 2 Column 5: 0\n",
      "Value at Row 3 Column 1: 1\n",
      "Value at Row 5 Column 5: 0\n"
     ]
    }
   ],
   "source": [
    "class SparseArrayEntry {\n",
    "    private int row;\n",
    "    private int col;\n",
    "    private int value;\n",
    "\n",
    "    public SparseArrayEntry(int row, int col, int value) {\n",
    "        this.row = row;\n",
    "        this.col = col;\n",
    "        this.value = value;\n",
    "    }\n",
    "\n",
    "    public int getRow() {\n",
    "        return row;\n",
    "    }\n",
    "\n",
    "    public int getCol() {\n",
    "        return col;\n",
    "    }\n",
    "\n",
    "    public int getValue() {\n",
    "        return value;\n",
    "    }\n",
    "}\n",
    "\n",
    "class SparseArray {\n",
    "    private List<SparseArrayEntry> entries;\n",
    "    private int numRows;\n",
    "    private int numCols;\n",
    "\n",
    "    public SparseArray(int numRows, int numCols) {\n",
    "        this.numRows = numRows;\n",
    "        this.numCols = numCols;\n",
    "        entries = new ArrayList<>();\n",
    "    }\n",
    "\n",
    "    public void addEntry(int row, int col, int value) {\n",
    "        entries.add(new SparseArrayEntry(row, col, value));\n",
    "    }\n",
    "\n",
    "    public int getNumRows() {\n",
    "        return numRows;\n",
    "    }\n",
    "\n",
    "    public int getNumCols() {\n",
    "        return numCols;\n",
    "    }\n",
    "\n",
    "    public int getValueAt(int row, int col) {\n",
    "        for (SparseArrayEntry e : entries) {\n",
    "            if (e.getRow() == row && e.getCol() == col) {\n",
    "                return e.getValue();\n",
    "            }\n",
    "        }\n",
    "        return 0;\n",
    "    }\n",
    "\n",
    "    // Test for printing array\n",
    "    public void printSparseArray() {\n",
    "        for (int i = 0; i < numRows; i++) {\n",
    "            for (int j = 0; j < numCols; j++) {\n",
    "                int value = getValueAt(i, j);\n",
    "                System.out.print(value + \" \");\n",
    "            }\n",
    "            System.out.println();  // Move to the next line after each row\n",
    "        }\n",
    "    }\n",
    "\n",
    "    public void removeColumn(int col) {\n",
    "        int i = 0;\n",
    "        while (i < entries.size()){\n",
    "            SparseArrayEntry e = entries.get(i);\n",
    "            if (e.getCol() == col){\n",
    "                entries.remove(i);\n",
    "            }\n",
    "            else if (e.getCol() > col){\n",
    "                entries.set(i, new SparseArrayEntry(e.getRow(), e.getCol()-1, e.getValue()));\n",
    "                i++;\n",
    "            }\n",
    "            else{\n",
    "                i++;\n",
    "            }\n",
    "        }\n",
    "        numCols--;\n",
    "    }\n",
    "\n",
    "    public static void main(String[] args) {\n",
    "        SparseArray sparseArray = new SparseArray(5, 5); \n",
    "        sparseArray.addEntry(1, 4, 4); \n",
    "        sparseArray.addEntry(2, 0, 1); \n",
    "        sparseArray.addEntry(3, 1, -9);\n",
    "        sparseArray.addEntry(1, 1, 5);\n",
    "\n",
    "        sparseArray.printSparseArray();\n",
    "\n",
    "        System.out.print(\"Value at Row 2 Column 5: \"); \n",
    "        System.out.println(sparseArray.getValueAt(1, 4)); \n",
    "        System.out.print(\"Value at Row 3 Column 1: \"); \n",
    "        System.out.println(sparseArray.getValueAt(2, 0)); \n",
    "        System.out.print(\"Value at Row 5 Column 5: \"); \n",
    "        System.out.println(sparseArray.getValueAt(4, 4)); \n",
    "\n",
    "        System.out.println(); \n",
    "\n",
    "        sparseArray.removeColumn(1);\n",
    "\n",
    "        sparseArray.printSparseArray();\n",
    "\n",
    "        System.out.print(\"Value at Row 2 Column 5: \"); \n",
    "        System.out.println(sparseArray.getValueAt(1, 4)); \n",
    "        System.out.print(\"Value at Row 3 Column 1: \"); \n",
    "        System.out.println(sparseArray.getValueAt(2, 0)); \n",
    "        System.out.print(\"Value at Row 5 Column 5: \"); \n",
    "        System.out.println(sparseArray.getValueAt(4, 4));\n",
    "    }\n",
    "}\n",
    "\n",
    "SparseArray.main(null);"
   ]
  },
  {
   "cell_type": "markdown",
   "metadata": {},
   "source": [
    "## Question 4\n",
    "![](https://cdn.discordapp.com/attachments/879557685253664768/1211176995497578506/Screenshot_2024-02-24_at_9.04.51_PM.png?ex=65ed3f7a&is=65daca7a&hm=ac44e1789f533d205f05d208088482610eaf08606db2ce081378260de58f624a&)\n",
    "\n",
    "### Part A\n",
    "![](https://cdn.discordapp.com/attachments/879557685253664768/1211177171876577371/Screenshot_2024-02-24_at_9.05.24_PM.png?ex=65ed3fa4&is=65dacaa4&hm=8d249021c7e373b90454790699dd40bb321028908a9fe0243650eac96573d7af&)"
   ]
  },
  {
   "cell_type": "code",
   "execution_count": 30,
   "metadata": {
    "vscode": {
     "languageId": "java"
    }
   },
   "outputs": [],
   "source": [
    "public interface NumberGroup \n",
    "{\n",
    "     public boolean contains(int num);\n",
    "}"
   ]
  },
  {
   "cell_type": "markdown",
   "metadata": {},
   "source": [
    "### Part B\n",
    "\n",
    "![](https://cdn.discordapp.com/attachments/879557685253664768/1211177245335486535/Screenshot_2024-02-24_at_9.05.48_PM.png?ex=65ed3fb5&is=65dacab5&hm=f67a842ff4d80786355893746f16e72e577f2f521dee4e68b2c6528874ab5d67&)"
   ]
  },
  {
   "cell_type": "code",
   "execution_count": 34,
   "metadata": {
    "vscode": {
     "languageId": "java"
    }
   },
   "outputs": [
    {
     "name": "stdout",
     "output_type": "stream",
     "text": [
      "false\n",
      "true\n",
      "true\n",
      "true\n",
      "false\n"
     ]
    }
   ],
   "source": [
    "public class Range implements NumberGroup{\n",
    "    private int min;\n",
    "    private int max;\n",
    "\n",
    "    public Range(int min, int max){\n",
    "        this.min = min;\n",
    "        this.max = max;\n",
    "    }\n",
    " \n",
    "    public boolean contains(int num){\n",
    "        return num >= min && num <= max;\n",
    "    }\n",
    "\n",
    "    public static void main(String[] args) {\n",
    "        NumberGroup range = new Range(-3, 2);\n",
    "\n",
    "        System.out.println(range.contains(-10));\n",
    "        System.out.println(range.contains(-3));\n",
    "        System.out.println(range.contains(0));\n",
    "        System.out.println(range.contains(1)); \n",
    "        System.out.println(range.contains(5));\n",
    "    }\n",
    "} \n",
    "\n",
    "Range.main(null);"
   ]
  },
  {
   "cell_type": "markdown",
   "metadata": {},
   "source": [
    "### Part C\n",
    "\n",
    "![](https://cdn.discordapp.com/attachments/879557685253664768/1211177410985332746/Screenshot_2024-02-24_at_9.06.34_PM.png?ex=65ed3fdd&is=65dacadd&hm=4419cb271a9c59f06d43631021636540d1b37e9f094b0aadd2b7bf78d9236f25&)"
   ]
  },
  {
   "cell_type": "code",
   "execution_count": 36,
   "metadata": {
    "vscode": {
     "languageId": "java"
    }
   },
   "outputs": [
    {
     "name": "stdout",
     "output_type": "stream",
     "text": [
      "true\n",
      "false\n",
      "true\n"
     ]
    }
   ],
   "source": [
    "public class MultipleGroups implements NumberGroup {\n",
    "    private List<NumberGroup> groupList;\n",
    "\n",
    "    public MultipleGroups() {\n",
    "        groupList = new ArrayList<>();\n",
    "        groupList.add(new Range(5, 8));\n",
    "        groupList.add(new Range(10, 12));\n",
    "        groupList.add(new Range(1, 6));\n",
    "    }\n",
    "\n",
    "    public boolean contains(int num) {\n",
    "        for (NumberGroup group : groupList) {\n",
    "            if (group.contains(num)) {\n",
    "                return true;\n",
    "            }\n",
    "        }\n",
    "        return false;\n",
    "    }\n",
    "}\n",
    "\n",
    "// Test  \n",
    "class MultipleGroupsTest {\n",
    "    public static void main(String[] args) {\n",
    "        MultipleGroups multiple = new MultipleGroups();\n",
    "\n",
    "        System.out.println(multiple.contains(3)); // should return true\n",
    "        System.out.println(multiple.contains(9)); // should return false\n",
    "        System.out.println(multiple.contains(5)); // should return true\n",
    "    }\n",
    "}\n",
    "\n",
    "MultipleGroupsTest.main(null);\n"
   ]
  }
 ],
 "metadata": {
  "kernelspec": {
   "display_name": "Java",
   "language": "java",
   "name": "java"
  },
  "language_info": {
   "codemirror_mode": "java",
   "file_extension": ".jshell",
   "mimetype": "text/x-java-source",
   "name": "Java",
   "pygments_lexer": "java",
   "version": "20.0.2+9-78"
  }
 },
 "nbformat": 4,
 "nbformat_minor": 2
}

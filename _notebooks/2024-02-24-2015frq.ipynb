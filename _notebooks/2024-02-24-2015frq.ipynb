{
 "cells": [
  {
   "cell_type": "markdown",
   "metadata": {},
   "source": [
    "---\n",
    "toc: true\n",
    "comments: true\n",
    "layout: notebook\n",
    "title: Collegeboard 2015 FRQs\n",
    "type: hacks\n",
    "---"
   ]
  },
  {
   "cell_type": "markdown",
   "metadata": {},
   "source": [
    "# Collegeboard 2015 FRQs\n",
    "\n",
    "## Question 1\n",
    "\n",
    "![](https://cdn.discordapp.com/attachments/879557685253664768/1211373388140912640/Screenshot_2024-02-25_at_10.04.25_AM.png?ex=65edf661&is=65db8161&hm=0010e1942d7dc8a6ab1281c88e1b4e12803f8dc69c61cbfde1b74a0d63d5471b&)"
   ]
  },
  {
   "cell_type": "markdown",
   "metadata": {},
   "source": [
    "<span style=\"color: blue;\">A static method in Java is a method that belongs to a class rather than an instance of the class, allowing it to be called directly on the class without creating an object. It is declared using the static keyword and cannot access instance variables or use the this keyword.</span>\n",
    "\n",
    "How to call a static method\n",
    "\n",
    "```\n",
    "Access_modifier static void methodName()\n",
    "{ \n",
    "     // Method body.\n",
    "} \n",
    "```"
   ]
  },
  {
   "cell_type": "markdown",
   "metadata": {},
   "source": [
    "## Question 4\n",
    "![](https://cdn.discordapp.com/attachments/879557685253664768/1211176995497578506/Screenshot_2024-02-24_at_9.04.51_PM.png?ex=65ed3f7a&is=65daca7a&hm=ac44e1789f533d205f05d208088482610eaf08606db2ce081378260de58f624a&)\n",
    "\n",
    "### Part A\n",
    "![](https://cdn.discordapp.com/attachments/879557685253664768/1211177171876577371/Screenshot_2024-02-24_at_9.05.24_PM.png?ex=65ed3fa4&is=65dacaa4&hm=8d249021c7e373b90454790699dd40bb321028908a9fe0243650eac96573d7af&)"
   ]
  },
  {
   "cell_type": "code",
   "execution_count": null,
   "metadata": {
    "vscode": {
     "languageId": "java"
    }
   },
   "outputs": [],
   "source": []
  },
  {
   "cell_type": "markdown",
   "metadata": {},
   "source": [
    "### Part B\n",
    "\n",
    "![](https://cdn.discordapp.com/attachments/879557685253664768/1211177245335486535/Screenshot_2024-02-24_at_9.05.48_PM.png?ex=65ed3fb5&is=65dacab5&hm=f67a842ff4d80786355893746f16e72e577f2f521dee4e68b2c6528874ab5d67&)"
   ]
  },
  {
   "cell_type": "code",
   "execution_count": null,
   "metadata": {
    "vscode": {
     "languageId": "java"
    }
   },
   "outputs": [],
   "source": []
  },
  {
   "cell_type": "markdown",
   "metadata": {},
   "source": [
    "### Part C\n",
    "\n",
    "![](https://cdn.discordapp.com/attachments/879557685253664768/1211177410985332746/Screenshot_2024-02-24_at_9.06.34_PM.png?ex=65ed3fdd&is=65dacadd&hm=4419cb271a9c59f06d43631021636540d1b37e9f094b0aadd2b7bf78d9236f25&)"
   ]
  }
 ],
 "metadata": {
  "language_info": {
   "name": "python"
  }
 },
 "nbformat": 4,
 "nbformat_minor": 2
}

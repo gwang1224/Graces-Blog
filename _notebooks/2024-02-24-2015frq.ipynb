{
 "cells": [
  {
   "cell_type": "markdown",
   "metadata": {},
   "source": [
    "---\n",
    "toc: true\n",
    "comments: true\n",
    "layout: default\n",
    "title: Collegeboard 2015 FRQs\n",
    "type: hacks\n",
    "---"
   ]
  },
  {
   "cell_type": "markdown",
   "metadata": {},
   "source": [
    "# Collegeboard 2015 FRQs\n",
    "\n",
    "## Question 1\n",
    "\n",
    "![](https://cdn.discordapp.com/attachments/879557685253664768/1211373388140912640/Screenshot_2024-02-25_at_10.04.25_AM.png?ex=65edf661&is=65db8161&hm=0010e1942d7dc8a6ab1281c88e1b4e12803f8dc69c61cbfde1b74a0d63d5471b&)"
   ]
  },
  {
   "cell_type": "markdown",
   "metadata": {},
   "source": [
    "<span style=\"color: blue;\">A static method in Java is a method that belongs to a class rather than an instance of the class, allowing it to be called directly on the class without creating an object. It is declared using the static keyword and cannot access instance variables or use the this keyword.</span>\n",
    "\n",
    "How to call a static method\n",
    "\n",
    "```\n",
    "Access_modifier static void methodName()\n",
    "{ \n",
    "     // Method body.\n",
    "} \n",
    "```"
   ]
  },
  {
   "cell_type": "code",
   "execution_count": 20,
   "metadata": {
    "vscode": {
     "languageId": "java"
    }
   },
   "outputs": [
    {
     "name": "stdout",
     "output_type": "stream",
     "text": [
      "Array: [1, 3, 2, 7, 3]\n",
      "Sum: 16"
     ]
    }
   ],
   "source": [
    "// Returns the sum of the entries in the one-dimensional array arr.\n",
    "\n",
    "public static int arraySum (int [ ] arr){\n",
    "    int sum = 0;\n",
    "\n",
    "    // for every integer in array, add it to sum\n",
    "    for(int i : arr)\n",
    "        sum += i;\n",
    "    \n",
    "    return sum;\n",
    "}\n",
    "\n",
    "// Test\n",
    "int[] array = {1, 3, 2, 7, 3};\n",
    "System.out.print(\"Array: \");\n",
    "System.out.println(Arrays.toString(array));\n",
    "\n",
    "System.out.print(\"Sum: \");\n",
    "System.out.print(arraySum(array));"
   ]
  },
  {
   "cell_type": "markdown",
   "metadata": {},
   "source": [
    "## Part B\n",
    "\n",
    "![](https://cdn.discordapp.com/attachments/879557685253664768/1211373388484968478/Screenshot_2024-02-25_at_10.05.06_AM.png?ex=65edf662&is=65db8162&hm=0038cbc3b3fe2e25a0bc59adb453e62f93de74d72953ce117be235787173aabb&)\n",
    "\n",
    "![](https://cdn.discordapp.com/attachments/879557685253664768/1211373388824838254/Screenshot_2024-02-25_at_10.05.18_AM.png?ex=65edf662&is=65db8162&hm=83e031f5b77cf6c56e24d8cff705f51c33ab6d7433330b85bc9634f60d9ba2e7&)"
   ]
  },
  {
   "cell_type": "code",
   "execution_count": 21,
   "metadata": {
    "vscode": {
     "languageId": "java"
    }
   },
   "outputs": [
    {
     "name": "stdout",
     "output_type": "stream",
     "text": [
      "Sum Array: [16, 32, 28, 20]"
     ]
    }
   ],
   "source": [
    "// Returns a one-dimensional array in which the entry at index k is the sum of \n",
    "// the entries of row k of the two-dimensional array arr2D.\n",
    "\n",
    "public static int[] rowSums(int[][] arr2D){\n",
    "    int[] sums = new int[arr2D.length];\n",
    "\n",
    "    int rowNum = 0;\n",
    "\n",
    "    // Iterates through the rows of the 2D array\n",
    "    for (int[] row: arr2D){\n",
    "\n",
    "        // Uses the function written in Part A\n",
    "        sums[rowNum] = arraySum(row);\n",
    "\n",
    "        rowNum++;\n",
    "    }\n",
    "\n",
    "    return sums;\n",
    "}\n",
    "\n",
    "// Test\n",
    "int[][] my2DArray = { {1, 3, 2, 7, 3}, {10, 10, 4, 6, 2}, {5, 3, 5, 9, 6}, {7, 6, 4, 2, 1}};\n",
    "\n",
    "System.out.print(\"Sum Array: \");\n",
    "System.out.print(Arrays.toString(rowSums(my2DArray)));"
   ]
  },
  {
   "cell_type": "markdown",
   "metadata": {},
   "source": [
    "### Part C\n",
    "\n",
    "![](https://cdn.discordapp.com/attachments/879557685253664768/1211373668593045544/Screenshot_2024-02-25_at_10.06.25_AM.png?ex=65edf6a4&is=65db81a4&hm=a6ca12d83850d6200461654db8653e1a38c2bba68a680babe283dcca7874c583&)\n",
    "\n",
    "![](https://cdn.discordapp.com/attachments/879557685253664768/1211373792958484560/Screenshot_2024-02-25_at_10.06.43_AM.png?ex=65edf6c2&is=65db81c2&hm=03020adae793b8235c949a80430ec75dfc1ec5996ec9832a6a526e87634d6898&)"
   ]
  },
  {
   "cell_type": "markdown",
   "metadata": {},
   "source": [
    "<span style=\"color: blue;\">\n",
    "Reminder of how for loops work:\n",
    "\n",
    "Initialization: Executed once at the beginning of the loop.\n",
    "\n",
    "Condition: Checked before each iteration. If false, the loop exits.\n",
    "\n",
    "Update: Executed after each iteration.\n",
    "</span>\n",
    "\n",
    "\n",
    "```\n",
    "for (initialization; condition; update) {\n",
    "    // Code to be repeated\n",
    "}\n",
    "```"
   ]
  },
  {
   "cell_type": "code",
   "execution_count": 39,
   "metadata": {
    "vscode": {
     "languageId": "java"
    }
   },
   "outputs": [
    {
     "name": "stdout",
     "output_type": "stream",
     "text": [
      "Sums of 2nd array: \n",
      "[16, 32, 28, 20]\n",
      "Is the first array diverse? \n",
      "true\n",
      "\n",
      "Sums of 2nd array: \n"
     ]
    },
    {
     "name": "stdout",
     "output_type": "stream",
     "text": [
      "[14, 36, 36, 14]\n",
      "Is the first array diverse? \n",
      "false"
     ]
    }
   ],
   "source": [
    "// Returns true if all rows in arr2D have different row sums; false otherwise.\n",
    "\n",
    "public static boolean isDiverse(int [ ] [ ] arr2D){\n",
    "    int[] sums = rowSums(arr2D);\n",
    "\n",
    "    for (int i = 0; i < sums.length; i++) {\n",
    "        \n",
    "        // Iterate through each pair of rows starting from i+1\n",
    "        for (int j = i + 1; j < sums.length; j++) {\n",
    "            if (sums[i] == sums[j]) {\n",
    "                return false;\n",
    "            }\n",
    "        }\n",
    "    }\n",
    "    return true;\n",
    "\n",
    "}\n",
    "\n",
    "\n",
    "// Testing\n",
    "int[][] mat1 = { {1, 3, 2, 7, 3}, {10, 10, 4, 6, 2}, {5, 3, 5, 9, 6}, {7, 6, 4, 2, 1}};\n",
    "System.out.println(\"Sums of 2nd array: \");\n",
    "System.out.println(Arrays.toString(rowSums(mat1)));\n",
    "System.out.println(\"Is the first array diverse? \");\n",
    "System.out.print(isDiverse(mat1));\n",
    "System.out.println();\n",
    "System.out.println();\n",
    "\n",
    "int[][] mat2 = { {1, 1, 5, 3, 4}, {12, 7, 6, 2, 9}, {8, 11, 10, 2, 5}, {3, 2, 3, 0, 6}};\n",
    "System.out.println(\"Sums of 2nd array: \");\n",
    "System.out.println(Arrays.toString(rowSums(mat2)));\n",
    "System.out.println(\"Is the first array diverse? \");\n",
    "System.out.print(isDiverse(mat2));"
   ]
  },
  {
   "cell_type": "markdown",
   "metadata": {},
   "source": [
    "## Question 2\n",
    "\n",
    "![](https://cdn.discordapp.com/attachments/879557685253664768/1211384649662726215/Screenshot_2024-02-25_at_10.49.44_AM.png?ex=65ee00de&is=65db8bde&hm=fd4f7091bc9f8ee47ba0b8c08b49d396f60a6efdc188834bd23c86243b5952b2&)\n",
    "\n",
    "![](https://cdn.discordapp.com/attachments/879557685253664768/1211384650023440424/Screenshot_2024-02-25_at_10.50.03_AM.png?ex=65ee00df&is=65db8bdf&hm=190a6cbc1fecb6aac646a201a36a8aa70109298397aa8bac89ed828a44cc1d11&)"
   ]
  },
  {
   "cell_type": "code",
   "execution_count": null,
   "metadata": {
    "vscode": {
     "languageId": "java"
    }
   },
   "outputs": [],
   "source": []
  },
  {
   "cell_type": "markdown",
   "metadata": {},
   "source": [
    "## Question 4\n",
    "![](https://cdn.discordapp.com/attachments/879557685253664768/1211176995497578506/Screenshot_2024-02-24_at_9.04.51_PM.png?ex=65ed3f7a&is=65daca7a&hm=ac44e1789f533d205f05d208088482610eaf08606db2ce081378260de58f624a&)\n",
    "\n",
    "### Part A\n",
    "![](https://cdn.discordapp.com/attachments/879557685253664768/1211177171876577371/Screenshot_2024-02-24_at_9.05.24_PM.png?ex=65ed3fa4&is=65dacaa4&hm=8d249021c7e373b90454790699dd40bb321028908a9fe0243650eac96573d7af&)"
   ]
  },
  {
   "cell_type": "code",
   "execution_count": null,
   "metadata": {
    "vscode": {
     "languageId": "java"
    }
   },
   "outputs": [],
   "source": []
  },
  {
   "cell_type": "markdown",
   "metadata": {},
   "source": [
    "### Part B\n",
    "\n",
    "![](https://cdn.discordapp.com/attachments/879557685253664768/1211177245335486535/Screenshot_2024-02-24_at_9.05.48_PM.png?ex=65ed3fb5&is=65dacab5&hm=f67a842ff4d80786355893746f16e72e577f2f521dee4e68b2c6528874ab5d67&)"
   ]
  },
  {
   "cell_type": "code",
   "execution_count": null,
   "metadata": {
    "vscode": {
     "languageId": "java"
    }
   },
   "outputs": [],
   "source": []
  },
  {
   "cell_type": "markdown",
   "metadata": {},
   "source": [
    "### Part C\n",
    "\n",
    "![](https://cdn.discordapp.com/attachments/879557685253664768/1211177410985332746/Screenshot_2024-02-24_at_9.06.34_PM.png?ex=65ed3fdd&is=65dacadd&hm=4419cb271a9c59f06d43631021636540d1b37e9f094b0aadd2b7bf78d9236f25&)"
   ]
  }
 ],
 "metadata": {
  "kernelspec": {
   "display_name": "Java",
   "language": "java",
   "name": "java"
  },
  "language_info": {
   "codemirror_mode": "java",
   "file_extension": ".jshell",
   "mimetype": "text/x-java-source",
   "name": "Java",
   "pygments_lexer": "java",
   "version": "20.0.2+9-78"
  }
 },
 "nbformat": 4,
 "nbformat_minor": 2
}
